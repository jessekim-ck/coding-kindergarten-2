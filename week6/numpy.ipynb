{
 "cells": [
  {
   "cell_type": "markdown",
   "metadata": {},
   "source": [
    "# Numpy"
   ]
  },
  {
   "cell_type": "code",
   "execution_count": 1,
   "metadata": {},
   "outputs": [],
   "source": [
    "import numpy as np"
   ]
  },
  {
   "cell_type": "code",
   "execution_count": 44,
   "metadata": {},
   "outputs": [
    {
     "data": {
      "text/plain": [
       "array([1, 2, 3, 4, 5])"
      ]
     },
     "execution_count": 44,
     "metadata": {},
     "output_type": "execute_result"
    }
   ],
   "source": [
    "# 1차원 array 만들기\n",
    "array_1d = np.array([1, 2, 3, 4, 5])\n",
    "array_1d"
   ]
  },
  {
   "cell_type": "code",
   "execution_count": 45,
   "metadata": {},
   "outputs": [
    {
     "data": {
      "text/plain": [
       "array([[ 1,  2,  3,  4,  5],\n",
       "       [ 6,  7,  8,  9, 10]])"
      ]
     },
     "execution_count": 45,
     "metadata": {},
     "output_type": "execute_result"
    }
   ],
   "source": [
    "# 2차원 array 만들기\n",
    "array_2d = np.array([\n",
    "    [1, 2, 3, 4, 5],\n",
    "    [6, 7, 8, 9, 10]\n",
    "])\n",
    "array_2d"
   ]
  },
  {
   "cell_type": "code",
   "execution_count": 46,
   "metadata": {},
   "outputs": [
    {
     "data": {
      "text/plain": [
       "array([[[0.78124306, 0.1300197 , 0.86921043, 0.92209494, 0.52745922],\n",
       "        [0.07855933, 0.16597771, 0.23564542, 0.67872353, 0.37138356],\n",
       "        [0.1725117 , 0.00526412, 0.69183316, 0.86469604, 0.36029251],\n",
       "        [0.29529103, 0.97578211, 0.97259359, 0.21586312, 0.8005228 ],\n",
       "        [0.86362957, 0.44305729, 0.37908188, 0.20095063, 0.55507751]],\n",
       "\n",
       "       [[0.09838673, 0.18295729, 0.0846903 , 0.59206498, 0.16599771],\n",
       "        [0.38160939, 0.39074154, 0.24794729, 0.25552162, 0.71474695],\n",
       "        [0.09615487, 0.89858105, 0.71646421, 0.65333859, 0.69674532],\n",
       "        [0.70411562, 0.24781776, 0.58959206, 0.88468741, 0.76487236],\n",
       "        [0.33666411, 0.6919754 , 0.06109793, 0.88078403, 0.98944564]],\n",
       "\n",
       "       [[0.80526665, 0.16570409, 0.30919119, 0.47121225, 0.61869812],\n",
       "        [0.52807722, 0.3368465 , 0.55757328, 0.6189414 , 0.76514993],\n",
       "        [0.48365085, 0.35762613, 0.8807984 , 0.96222669, 0.65310254],\n",
       "        [0.06791795, 0.73421459, 0.30026167, 0.14514145, 0.25058   ],\n",
       "        [0.63343412, 0.93009983, 0.55479294, 0.51932653, 0.04846696]]])"
      ]
     },
     "execution_count": 46,
     "metadata": {},
     "output_type": "execute_result"
    }
   ],
   "source": [
    "# 3차원 array 만들기\n",
    "array_3d = np.random.random((3, 5, 5))\n",
    "array_3d"
   ]
  },
  {
   "cell_type": "code",
   "execution_count": 47,
   "metadata": {},
   "outputs": [
    {
     "data": {
      "text/plain": [
       "(3, 5, 5)"
      ]
     },
     "execution_count": 47,
     "metadata": {},
     "output_type": "execute_result"
    }
   ],
   "source": [
    "# array 모양 확인하기\n",
    "array_3d.shape"
   ]
  },
  {
   "cell_type": "code",
   "execution_count": 56,
   "metadata": {},
   "outputs": [
    {
     "data": {
      "text/plain": [
       "array([[[0.78124306, 0.09838673, 0.80526665],\n",
       "        [0.1300197 , 0.18295729, 0.16570409],\n",
       "        [0.86921043, 0.0846903 , 0.30919119],\n",
       "        [0.92209494, 0.59206498, 0.47121225],\n",
       "        [0.52745922, 0.16599771, 0.61869812]],\n",
       "\n",
       "       [[0.07855933, 0.38160939, 0.52807722],\n",
       "        [0.16597771, 0.39074154, 0.3368465 ],\n",
       "        [0.23564542, 0.24794729, 0.55757328],\n",
       "        [0.67872353, 0.25552162, 0.6189414 ],\n",
       "        [0.37138356, 0.71474695, 0.76514993]],\n",
       "\n",
       "       [[0.1725117 , 0.09615487, 0.48365085],\n",
       "        [0.00526412, 0.89858105, 0.35762613],\n",
       "        [0.69183316, 0.71646421, 0.8807984 ],\n",
       "        [0.86469604, 0.65333859, 0.96222669],\n",
       "        [0.36029251, 0.69674532, 0.65310254]],\n",
       "\n",
       "       [[0.29529103, 0.70411562, 0.06791795],\n",
       "        [0.97578211, 0.24781776, 0.73421459],\n",
       "        [0.97259359, 0.58959206, 0.30026167],\n",
       "        [0.21586312, 0.88468741, 0.14514145],\n",
       "        [0.8005228 , 0.76487236, 0.25058   ]],\n",
       "\n",
       "       [[0.86362957, 0.33666411, 0.63343412],\n",
       "        [0.44305729, 0.6919754 , 0.93009983],\n",
       "        [0.37908188, 0.06109793, 0.55479294],\n",
       "        [0.20095063, 0.88078403, 0.51932653],\n",
       "        [0.55507751, 0.98944564, 0.04846696]]])"
      ]
     },
     "execution_count": 56,
     "metadata": {},
     "output_type": "execute_result"
    }
   ],
   "source": [
    "# 차원 순서 바꾸기\n",
    "np.transpose(array_3d, (1, 2, 0))"
   ]
  },
  {
   "cell_type": "code",
   "execution_count": 57,
   "metadata": {},
   "outputs": [
    {
     "data": {
      "text/plain": [
       "array([[0.78124306, 0.1300197 , 0.86921043, 0.92209494, 0.52745922,\n",
       "        0.07855933, 0.16597771, 0.23564542, 0.67872353, 0.37138356,\n",
       "        0.1725117 , 0.00526412, 0.69183316, 0.86469604, 0.36029251,\n",
       "        0.29529103, 0.97578211, 0.97259359, 0.21586312, 0.8005228 ,\n",
       "        0.86362957, 0.44305729, 0.37908188, 0.20095063, 0.55507751],\n",
       "       [0.09838673, 0.18295729, 0.0846903 , 0.59206498, 0.16599771,\n",
       "        0.38160939, 0.39074154, 0.24794729, 0.25552162, 0.71474695,\n",
       "        0.09615487, 0.89858105, 0.71646421, 0.65333859, 0.69674532,\n",
       "        0.70411562, 0.24781776, 0.58959206, 0.88468741, 0.76487236,\n",
       "        0.33666411, 0.6919754 , 0.06109793, 0.88078403, 0.98944564],\n",
       "       [0.80526665, 0.16570409, 0.30919119, 0.47121225, 0.61869812,\n",
       "        0.52807722, 0.3368465 , 0.55757328, 0.6189414 , 0.76514993,\n",
       "        0.48365085, 0.35762613, 0.8807984 , 0.96222669, 0.65310254,\n",
       "        0.06791795, 0.73421459, 0.30026167, 0.14514145, 0.25058   ,\n",
       "        0.63343412, 0.93009983, 0.55479294, 0.51932653, 0.04846696]])"
      ]
     },
     "execution_count": 57,
     "metadata": {},
     "output_type": "execute_result"
    }
   ],
   "source": [
    "# 모양 바꾸기\n",
    "np.reshape(array_3d, (3, 25))"
   ]
  },
  {
   "cell_type": "markdown",
   "metadata": {},
   "source": [
    "## 기본 연산"
   ]
  },
  {
   "cell_type": "code",
   "execution_count": 58,
   "metadata": {},
   "outputs": [
    {
     "data": {
      "text/plain": [
       "array([[1.68489643, 0.47868109, 1.26309192, 1.98537217, 1.31215504],\n",
       "       [0.98824594, 0.89356576, 1.04116599, 1.55318655, 1.85128044],\n",
       "       [0.75231741, 1.2614713 , 2.28909577, 2.48026132, 1.71014037],\n",
       "       [1.0673246 , 1.95781446, 1.86244732, 1.24569198, 1.81597515],\n",
       "       [1.83372781, 2.06513253, 0.99497275, 1.60106119, 1.59299011]])"
      ]
     },
     "execution_count": 58,
     "metadata": {},
     "output_type": "execute_result"
    }
   ],
   "source": [
    "np.sum(array_3d, axis=0)  # 0번 축을 기준으로 합하기"
   ]
  },
  {
   "cell_type": "code",
   "execution_count": 59,
   "metadata": {},
   "outputs": [
    {
     "data": {
      "text/plain": [
       "array([[2.19123469, 1.72010094, 3.14836448, 2.88232826, 2.61473559],\n",
       "       [1.61693072, 2.41207305, 1.69979178, 3.26639664, 3.33180798],\n",
       "       [2.51834678, 2.52449114, 2.60261749, 2.71684832, 2.33599754]])"
      ]
     },
     "execution_count": 59,
     "metadata": {},
     "output_type": "execute_result"
    }
   ],
   "source": [
    "np.sum(array_3d, axis=1)  # 1번 축을 기준으로 합하기"
   ]
  },
  {
   "cell_type": "code",
   "execution_count": 60,
   "metadata": {},
   "outputs": [
    {
     "data": {
      "text/plain": [
       "array([[3.23002735, 1.53028955, 2.09459753, 3.26005265, 2.44179688],\n",
       "       [1.12409702, 1.99056679, 3.06128404, 3.19108521, 2.95996711],\n",
       "       [2.37007229, 2.80658834, 3.33740461, 1.49811565, 2.68612039]])"
      ]
     },
     "execution_count": 60,
     "metadata": {},
     "output_type": "execute_result"
    }
   ],
   "source": [
    "np.sum(array_3d, axis=2)  # 2번 축을 기준으로 합하기"
   ]
  },
  {
   "cell_type": "code",
   "execution_count": 24,
   "metadata": {},
   "outputs": [
    {
     "data": {
      "text/plain": [
       "array([[0.82468876, 0.29148638, 0.47373306, 0.87900965, 0.66314031],\n",
       "       [0.70749891, 0.53262993, 0.59435545, 0.37490351, 0.53604614],\n",
       "       [0.43861332, 0.2341969 , 0.85505017, 0.25000053, 0.38429103],\n",
       "       [0.53980506, 0.35656865, 0.36460468, 0.71591918, 0.40135255],\n",
       "       [0.15483886, 0.53850966, 0.39345034, 0.77654778, 0.52982679]])"
      ]
     },
     "execution_count": 24,
     "metadata": {},
     "output_type": "execute_result"
    }
   ],
   "source": [
    "np.mean(array_3d, axis=0)"
   ]
  },
  {
   "cell_type": "code",
   "execution_count": 61,
   "metadata": {},
   "outputs": [
    {
     "data": {
      "text/plain": [
       "array([[0.09838673, 0.1300197 , 0.0846903 , 0.47121225, 0.16599771],\n",
       "       [0.07855933, 0.16597771, 0.23564542, 0.25552162, 0.37138356],\n",
       "       [0.09615487, 0.00526412, 0.69183316, 0.65333859, 0.36029251],\n",
       "       [0.06791795, 0.24781776, 0.30026167, 0.14514145, 0.25058   ],\n",
       "       [0.33666411, 0.44305729, 0.06109793, 0.20095063, 0.04846696]])"
      ]
     },
     "execution_count": 61,
     "metadata": {},
     "output_type": "execute_result"
    }
   ],
   "source": [
    "np.min(array_3d, axis=0)"
   ]
  },
  {
   "cell_type": "markdown",
   "metadata": {},
   "source": [
    "## 원소 단위 연산"
   ]
  },
  {
   "cell_type": "code",
   "execution_count": 28,
   "metadata": {},
   "outputs": [],
   "source": [
    "arr1 = np.array([\n",
    "    [1, 2, 3],\n",
    "    [4, 5, 6],\n",
    "    [7, 8, 9]\n",
    "])\n",
    "\n",
    "arr2 = np.array([\n",
    "    [11, 12, 13],\n",
    "    [14, 15, 16],\n",
    "    [17, 18, 19]\n",
    "])"
   ]
  },
  {
   "cell_type": "code",
   "execution_count": 62,
   "metadata": {},
   "outputs": [
    {
     "data": {
      "text/plain": [
       "array([[101, 102, 103],\n",
       "       [204, 205, 206],\n",
       "       [307, 308, 309]])"
      ]
     },
     "execution_count": 62,
     "metadata": {},
     "output_type": "execute_result"
    }
   ],
   "source": [
    "arr1 + arr2  # 원소끼리 더하기"
   ]
  },
  {
   "cell_type": "code",
   "execution_count": 63,
   "metadata": {},
   "outputs": [
    {
     "data": {
      "text/plain": [
       "array([[ 100,  200,  300],\n",
       "       [ 800, 1000, 1200],\n",
       "       [2100, 2400, 2700]])"
      ]
     },
     "execution_count": 63,
     "metadata": {},
     "output_type": "execute_result"
    }
   ],
   "source": [
    "arr1 * arr2  # 원소끼리 곱하기"
   ]
  },
  {
   "cell_type": "code",
   "execution_count": 65,
   "metadata": {},
   "outputs": [
    {
     "data": {
      "text/plain": [
       "array([[101, 202, 303],\n",
       "       [104, 205, 306],\n",
       "       [107, 208, 309]])"
      ]
     },
     "execution_count": 65,
     "metadata": {},
     "output_type": "execute_result"
    }
   ],
   "source": [
    "# broadcasting\n",
    "arr1 = np.array([\n",
    "    [1, 2, 3],\n",
    "    [4, 5, 6],\n",
    "    [7, 8, 9]\n",
    "])\n",
    "arr2 = np.array([100, 200, 300])\n",
    "# arr2 = np.array([\n",
    "#     [100, 200, 300],\n",
    "#     [100, 200, 300],\n",
    "#     [100, 200, 300]\n",
    "# ])\n",
    "arr1 + arr2"
   ]
  },
  {
   "cell_type": "code",
   "execution_count": 66,
   "metadata": {},
   "outputs": [
    {
     "data": {
      "text/plain": [
       "array([[101, 102, 103],\n",
       "       [204, 205, 206],\n",
       "       [307, 308, 309]])"
      ]
     },
     "execution_count": 66,
     "metadata": {},
     "output_type": "execute_result"
    }
   ],
   "source": [
    "arr2 = np.array([\n",
    "    [100],\n",
    "    [200],\n",
    "    [300]\n",
    "])\n",
    "# arr = np.array([\n",
    "#     [100, 100, 100],\n",
    "#     [200, 200, 200],\n",
    "#     [300, 300, 300]\n",
    "# ])\n",
    "arr1 + arr2"
   ]
  },
  {
   "cell_type": "code",
   "execution_count": 68,
   "metadata": {},
   "outputs": [
    {
     "data": {
      "text/plain": [
       "array([[ 1,  4,  9],\n",
       "       [16, 25, 36],\n",
       "       [49, 64, 81]])"
      ]
     },
     "execution_count": 68,
     "metadata": {},
     "output_type": "execute_result"
    }
   ],
   "source": [
    "arr1**2  # 이런 것도 당연히 가능"
   ]
  },
  {
   "cell_type": "code",
   "execution_count": 70,
   "metadata": {},
   "outputs": [
    {
     "data": {
      "text/plain": [
       "array([[0.5, 1. , 1.5],\n",
       "       [2. , 2.5, 3. ],\n",
       "       [3.5, 4. , 4.5]])"
      ]
     },
     "execution_count": 70,
     "metadata": {},
     "output_type": "execute_result"
    }
   ],
   "source": [
    "arr1 / 2  # 이런 것도"
   ]
  },
  {
   "cell_type": "markdown",
   "metadata": {},
   "source": [
    "## 행렬 연산"
   ]
  },
  {
   "cell_type": "code",
   "execution_count": 30,
   "metadata": {},
   "outputs": [
    {
     "data": {
      "text/plain": [
       "array([[ 90,  96, 102],\n",
       "       [216, 231, 246],\n",
       "       [342, 366, 390]])"
      ]
     },
     "execution_count": 30,
     "metadata": {},
     "output_type": "execute_result"
    }
   ],
   "source": [
    "np.matmul(arr1, arr2)"
   ]
  },
  {
   "cell_type": "markdown",
   "metadata": {},
   "source": [
    "# 편의 기능"
   ]
  },
  {
   "cell_type": "code",
   "execution_count": 73,
   "metadata": {},
   "outputs": [
    {
     "data": {
      "text/plain": [
       "array([[[0., 0., 0.],\n",
       "        [0., 0., 0.],\n",
       "        [0., 0., 0.]],\n",
       "\n",
       "       [[0., 0., 0.],\n",
       "        [0., 0., 0.],\n",
       "        [0., 0., 0.]],\n",
       "\n",
       "       [[0., 0., 0.],\n",
       "        [0., 0., 0.],\n",
       "        [0., 0., 0.]]])"
      ]
     },
     "execution_count": 73,
     "metadata": {},
     "output_type": "execute_result"
    }
   ],
   "source": [
    "np.zeros((3, 3, 3))  # 영행렬 만들기"
   ]
  },
  {
   "cell_type": "code",
   "execution_count": 81,
   "metadata": {},
   "outputs": [
    {
     "data": {
      "text/plain": [
       "array([[[1., 1., 1.],\n",
       "        [1., 1., 1.],\n",
       "        [1., 1., 1.]],\n",
       "\n",
       "       [[1., 1., 1.],\n",
       "        [1., 1., 1.],\n",
       "        [1., 1., 1.]],\n",
       "\n",
       "       [[1., 1., 1.],\n",
       "        [1., 1., 1.],\n",
       "        [1., 1., 1.]]])"
      ]
     },
     "execution_count": 81,
     "metadata": {},
     "output_type": "execute_result"
    }
   ],
   "source": [
    "np.ones((3, 3, 3))  # 일행렬 만들기"
   ]
  },
  {
   "cell_type": "code",
   "execution_count": 80,
   "metadata": {},
   "outputs": [
    {
     "data": {
      "text/plain": [
       "array([[1., 0., 0.],\n",
       "       [0., 1., 0.],\n",
       "       [0., 0., 1.]])"
      ]
     },
     "execution_count": 80,
     "metadata": {},
     "output_type": "execute_result"
    }
   ],
   "source": [
    "np.eye(3)  # I 행렬 만들기"
   ]
  },
  {
   "cell_type": "code",
   "execution_count": 74,
   "metadata": {},
   "outputs": [
    {
     "data": {
      "text/plain": [
       "array([[[0.53866565, 0.90419972, 0.79649846],\n",
       "        [0.84400423, 0.41351767, 0.69882502],\n",
       "        [0.3222055 , 0.17097523, 0.11099782]],\n",
       "\n",
       "       [[0.67509692, 0.35757549, 0.00369842],\n",
       "        [0.40386347, 0.00747354, 0.87190548],\n",
       "        [0.46529451, 0.80062792, 0.64925452]],\n",
       "\n",
       "       [[0.55258476, 0.08567168, 0.89016585],\n",
       "        [0.88809778, 0.31211088, 0.83367328],\n",
       "        [0.19783759, 0.87072307, 0.10780246]]])"
      ]
     },
     "execution_count": 74,
     "metadata": {},
     "output_type": "execute_result"
    }
   ],
   "source": [
    "np.random.random((3, 3, 3))  # 랜덤 행렬 만들기"
   ]
  },
  {
   "cell_type": "markdown",
   "metadata": {},
   "source": [
    "이제 모르는 것이 있다면 구글에 검색하면 된다!\n",
    "\n",
    "*E.O.D.*"
   ]
  },
  {
   "cell_type": "markdown",
   "metadata": {},
   "source": []
  }
 ],
 "metadata": {
  "interpreter": {
   "hash": "6782213626cec0d3f5f886a81219101dd5fc224045f955f6749016266fe825d1"
  },
  "kernelspec": {
   "display_name": "Python 3.9.7 64-bit ('base': conda)",
   "language": "python",
   "name": "python3"
  },
  "language_info": {
   "codemirror_mode": {
    "name": "ipython",
    "version": 3
   },
   "file_extension": ".py",
   "mimetype": "text/x-python",
   "name": "python",
   "nbconvert_exporter": "python",
   "pygments_lexer": "ipython3",
   "version": "3.9.7"
  },
  "orig_nbformat": 4
 },
 "nbformat": 4,
 "nbformat_minor": 2
}
