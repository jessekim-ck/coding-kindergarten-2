{
 "cells": [
  {
   "cell_type": "markdown",
   "metadata": {},
   "source": [
    "# Numpy"
   ]
  },
  {
   "cell_type": "code",
   "execution_count": 2,
   "metadata": {},
   "outputs": [],
   "source": [
    "import numpy as np"
   ]
  },
  {
   "cell_type": "code",
   "execution_count": 3,
   "metadata": {},
   "outputs": [
    {
     "data": {
      "text/plain": [
       "array([1, 2, 3, 4, 5])"
      ]
     },
     "execution_count": 3,
     "metadata": {},
     "output_type": "execute_result"
    }
   ],
   "source": [
    "# 1차원 array 만들기\n",
    "array_1d = np.array([1, 2, 3, 4, 5])\n",
    "array_1d"
   ]
  },
  {
   "cell_type": "code",
   "execution_count": 4,
   "metadata": {},
   "outputs": [
    {
     "data": {
      "text/plain": [
       "array([[ 1,  2,  3,  4,  5],\n",
       "       [ 6,  7,  8,  9, 10]])"
      ]
     },
     "execution_count": 4,
     "metadata": {},
     "output_type": "execute_result"
    }
   ],
   "source": [
    "# 2차원 array 만들기\n",
    "array_2d = np.array(\n",
    "    [\n",
    "        [1, 2, 3, 4, 5],\n",
    "        [6, 7, 8, 9, 10]\n",
    "    ]\n",
    ")\n",
    "array_2d"
   ]
  },
  {
   "cell_type": "code",
   "execution_count": 5,
   "metadata": {},
   "outputs": [
    {
     "data": {
      "text/plain": [
       "array([[[0.7101576 , 0.93570943, 0.18347632, 0.77358467, 0.06764932],\n",
       "        [0.53045791, 0.55590779, 0.55850787, 0.95506407, 0.89219324],\n",
       "        [0.62895024, 0.65540772, 0.19512434, 0.52491084, 0.61608629],\n",
       "        [0.4650145 , 0.8184758 , 0.11102471, 0.65989455, 0.46470637],\n",
       "        [0.45087528, 0.46592663, 0.28484976, 0.60634748, 0.92472383]],\n",
       "\n",
       "       [[0.44390993, 0.09851919, 0.84107886, 0.61493417, 0.67935845],\n",
       "        [0.53659001, 0.2821142 , 0.6738786 , 0.17357622, 0.01676133],\n",
       "        [0.44388665, 0.57921283, 0.44695904, 0.02741166, 0.0664772 ],\n",
       "        [0.45543601, 0.97201685, 0.02987164, 0.70150406, 0.42454935],\n",
       "        [0.03263834, 0.61787742, 0.80171774, 0.91501822, 0.98229007]],\n",
       "\n",
       "       [[0.24314418, 0.67920145, 0.91269917, 0.47247692, 0.863069  ],\n",
       "        [0.76336466, 0.50044498, 0.01079769, 0.66280918, 0.55419501],\n",
       "        [0.37264681, 0.74931362, 0.88172612, 0.82542141, 0.04867379],\n",
       "        [0.07351142, 0.49331644, 0.92004862, 0.42408071, 0.48150623],\n",
       "        [0.91248551, 0.12807533, 0.18241782, 0.39754042, 0.88361999]]])"
      ]
     },
     "execution_count": 5,
     "metadata": {},
     "output_type": "execute_result"
    }
   ],
   "source": [
    "# 3차원 array 만들기\n",
    "array_3d = np.random.random((3, 5, 5))\n",
    "array_3d"
   ]
  },
  {
   "cell_type": "code",
   "execution_count": 6,
   "metadata": {},
   "outputs": [
    {
     "data": {
      "text/plain": [
       "(3, 5, 5)"
      ]
     },
     "execution_count": 6,
     "metadata": {},
     "output_type": "execute_result"
    }
   ],
   "source": [
    "# array 모양 확인하기\n",
    "array_3d.shape"
   ]
  },
  {
   "cell_type": "code",
   "execution_count": 7,
   "metadata": {},
   "outputs": [
    {
     "data": {
      "text/plain": [
       "array([[[0.7101576 , 0.44390993, 0.24314418],\n",
       "        [0.93570943, 0.09851919, 0.67920145],\n",
       "        [0.18347632, 0.84107886, 0.91269917],\n",
       "        [0.77358467, 0.61493417, 0.47247692],\n",
       "        [0.06764932, 0.67935845, 0.863069  ]],\n",
       "\n",
       "       [[0.53045791, 0.53659001, 0.76336466],\n",
       "        [0.55590779, 0.2821142 , 0.50044498],\n",
       "        [0.55850787, 0.6738786 , 0.01079769],\n",
       "        [0.95506407, 0.17357622, 0.66280918],\n",
       "        [0.89219324, 0.01676133, 0.55419501]],\n",
       "\n",
       "       [[0.62895024, 0.44388665, 0.37264681],\n",
       "        [0.65540772, 0.57921283, 0.74931362],\n",
       "        [0.19512434, 0.44695904, 0.88172612],\n",
       "        [0.52491084, 0.02741166, 0.82542141],\n",
       "        [0.61608629, 0.0664772 , 0.04867379]],\n",
       "\n",
       "       [[0.4650145 , 0.45543601, 0.07351142],\n",
       "        [0.8184758 , 0.97201685, 0.49331644],\n",
       "        [0.11102471, 0.02987164, 0.92004862],\n",
       "        [0.65989455, 0.70150406, 0.42408071],\n",
       "        [0.46470637, 0.42454935, 0.48150623]],\n",
       "\n",
       "       [[0.45087528, 0.03263834, 0.91248551],\n",
       "        [0.46592663, 0.61787742, 0.12807533],\n",
       "        [0.28484976, 0.80171774, 0.18241782],\n",
       "        [0.60634748, 0.91501822, 0.39754042],\n",
       "        [0.92472383, 0.98229007, 0.88361999]]])"
      ]
     },
     "execution_count": 7,
     "metadata": {},
     "output_type": "execute_result"
    }
   ],
   "source": [
    "# 차원 순서 바꾸기\n",
    "np.transpose(array_3d, (1, 2, 0))"
   ]
  },
  {
   "cell_type": "code",
   "execution_count": 8,
   "metadata": {},
   "outputs": [
    {
     "data": {
      "text/plain": [
       "array([[0.7101576 , 0.93570943, 0.18347632, 0.77358467, 0.06764932,\n",
       "        0.53045791, 0.55590779, 0.55850787, 0.95506407, 0.89219324,\n",
       "        0.62895024, 0.65540772, 0.19512434, 0.52491084, 0.61608629,\n",
       "        0.4650145 , 0.8184758 , 0.11102471, 0.65989455, 0.46470637,\n",
       "        0.45087528, 0.46592663, 0.28484976, 0.60634748, 0.92472383],\n",
       "       [0.44390993, 0.09851919, 0.84107886, 0.61493417, 0.67935845,\n",
       "        0.53659001, 0.2821142 , 0.6738786 , 0.17357622, 0.01676133,\n",
       "        0.44388665, 0.57921283, 0.44695904, 0.02741166, 0.0664772 ,\n",
       "        0.45543601, 0.97201685, 0.02987164, 0.70150406, 0.42454935,\n",
       "        0.03263834, 0.61787742, 0.80171774, 0.91501822, 0.98229007],\n",
       "       [0.24314418, 0.67920145, 0.91269917, 0.47247692, 0.863069  ,\n",
       "        0.76336466, 0.50044498, 0.01079769, 0.66280918, 0.55419501,\n",
       "        0.37264681, 0.74931362, 0.88172612, 0.82542141, 0.04867379,\n",
       "        0.07351142, 0.49331644, 0.92004862, 0.42408071, 0.48150623,\n",
       "        0.91248551, 0.12807533, 0.18241782, 0.39754042, 0.88361999]])"
      ]
     },
     "execution_count": 8,
     "metadata": {},
     "output_type": "execute_result"
    }
   ],
   "source": [
    "# 모양 바꾸기\n",
    "np.reshape(array_3d, (3, 25))"
   ]
  },
  {
   "cell_type": "markdown",
   "metadata": {},
   "source": [
    "## 기본 연산"
   ]
  },
  {
   "cell_type": "code",
   "execution_count": 9,
   "metadata": {},
   "outputs": [
    {
     "data": {
      "text/plain": [
       "array([[1.3972117 , 1.71343007, 1.93725435, 1.86099576, 1.61007678],\n",
       "       [1.83041258, 1.33846697, 1.24318416, 1.79144948, 1.46314958],\n",
       "       [1.44548371, 1.98393417, 1.5238095 , 1.37774391, 0.73123728],\n",
       "       [0.99396193, 2.28380909, 1.06094497, 1.78547932, 1.37076195],\n",
       "       [1.39599913, 1.21187938, 1.26898532, 1.91890612, 2.79063389]])"
      ]
     },
     "execution_count": 9,
     "metadata": {},
     "output_type": "execute_result"
    }
   ],
   "source": [
    "np.sum(array_3d, axis=0)  # 0번 축을 기준으로 합하기"
   ]
  },
  {
   "cell_type": "code",
   "execution_count": 10,
   "metadata": {},
   "outputs": [
    {
     "data": {
      "text/plain": [
       "array([[2.78545553, 3.43142738, 1.332983  , 3.51980161, 2.96535904],\n",
       "       [1.91246094, 2.54974048, 2.79350588, 2.43244434, 2.1694364 ],\n",
       "       [2.36515258, 2.55035182, 2.90768942, 2.78232863, 2.83106403]])"
      ]
     },
     "execution_count": 10,
     "metadata": {},
     "output_type": "execute_result"
    }
   ],
   "source": [
    "np.sum(array_3d, axis=1)  # 1번 축을 기준으로 합하기"
   ]
  },
  {
   "cell_type": "code",
   "execution_count": 11,
   "metadata": {},
   "outputs": [
    {
     "data": {
      "text/plain": [
       "array([[2.67057734, 3.49213088, 2.62047943, 2.51911593, 2.73272297],\n",
       "       [2.6778006 , 1.68292036, 1.56394738, 2.58337792, 3.34954178],\n",
       "       [3.17059072, 2.49161152, 2.87778175, 2.39246342, 2.50413907]])"
      ]
     },
     "execution_count": 11,
     "metadata": {},
     "output_type": "execute_result"
    }
   ],
   "source": [
    "np.sum(array_3d, axis=2)  # 2번 축을 기준으로 합하기"
   ]
  },
  {
   "cell_type": "code",
   "execution_count": 12,
   "metadata": {},
   "outputs": [
    {
     "data": {
      "text/plain": [
       "39.32920107145894"
      ]
     },
     "execution_count": 12,
     "metadata": {},
     "output_type": "execute_result"
    }
   ],
   "source": [
    "np.sum(array_3d)  # 전체 합하기"
   ]
  },
  {
   "cell_type": "code",
   "execution_count": 13,
   "metadata": {},
   "outputs": [
    {
     "data": {
      "text/plain": [
       "array([[0.46573723, 0.57114336, 0.64575145, 0.62033192, 0.53669226],\n",
       "       [0.61013753, 0.44615566, 0.41439472, 0.59714983, 0.48771653],\n",
       "       [0.4818279 , 0.66131139, 0.5079365 , 0.45924797, 0.24374576],\n",
       "       [0.33132064, 0.7612697 , 0.35364832, 0.59515977, 0.45692065],\n",
       "       [0.46533304, 0.40395979, 0.42299511, 0.63963537, 0.9302113 ]])"
      ]
     },
     "execution_count": 13,
     "metadata": {},
     "output_type": "execute_result"
    }
   ],
   "source": [
    "np.mean(array_3d, axis=0)"
   ]
  },
  {
   "cell_type": "code",
   "execution_count": 14,
   "metadata": {},
   "outputs": [
    {
     "data": {
      "text/plain": [
       "array([[0.24314418, 0.09851919, 0.18347632, 0.47247692, 0.06764932],\n",
       "       [0.53045791, 0.2821142 , 0.01079769, 0.17357622, 0.01676133],\n",
       "       [0.37264681, 0.57921283, 0.19512434, 0.02741166, 0.04867379],\n",
       "       [0.07351142, 0.49331644, 0.02987164, 0.42408071, 0.42454935],\n",
       "       [0.03263834, 0.12807533, 0.18241782, 0.39754042, 0.88361999]])"
      ]
     },
     "execution_count": 14,
     "metadata": {},
     "output_type": "execute_result"
    }
   ],
   "source": [
    "np.min(array_3d, axis=0)"
   ]
  },
  {
   "cell_type": "markdown",
   "metadata": {},
   "source": [
    "## 원소 단위 연산"
   ]
  },
  {
   "cell_type": "code",
   "execution_count": 15,
   "metadata": {},
   "outputs": [],
   "source": [
    "arr1 = np.array([\n",
    "    [1, 2, 3],\n",
    "    [4, 5, 6],\n",
    "    [7, 8, 9]\n",
    "])\n",
    "\n",
    "arr2 = np.array([\n",
    "    [11, 12, 13],\n",
    "    [14, 15, 16],\n",
    "    [17, 18, 19]\n",
    "])"
   ]
  },
  {
   "cell_type": "code",
   "execution_count": 16,
   "metadata": {},
   "outputs": [
    {
     "data": {
      "text/plain": [
       "array([[12, 14, 16],\n",
       "       [18, 20, 22],\n",
       "       [24, 26, 28]])"
      ]
     },
     "execution_count": 16,
     "metadata": {},
     "output_type": "execute_result"
    }
   ],
   "source": [
    "arr1 + arr2  # 원소끼리 더하기"
   ]
  },
  {
   "cell_type": "code",
   "execution_count": 17,
   "metadata": {},
   "outputs": [
    {
     "data": {
      "text/plain": [
       "array([[ 11,  24,  39],\n",
       "       [ 56,  75,  96],\n",
       "       [119, 144, 171]])"
      ]
     },
     "execution_count": 17,
     "metadata": {},
     "output_type": "execute_result"
    }
   ],
   "source": [
    "arr1 * arr2  # 원소끼리 곱하기"
   ]
  },
  {
   "cell_type": "code",
   "execution_count": 18,
   "metadata": {},
   "outputs": [
    {
     "data": {
      "text/plain": [
       "array([[0.09090909, 0.16666667, 0.23076923],\n",
       "       [0.28571429, 0.33333333, 0.375     ],\n",
       "       [0.41176471, 0.44444444, 0.47368421]])"
      ]
     },
     "execution_count": 18,
     "metadata": {},
     "output_type": "execute_result"
    }
   ],
   "source": [
    "arr1 / arr2"
   ]
  },
  {
   "cell_type": "code",
   "execution_count": 19,
   "metadata": {},
   "outputs": [
    {
     "data": {
      "text/plain": [
       "array([[101, 202, 303],\n",
       "       [104, 205, 306],\n",
       "       [107, 208, 309]])"
      ]
     },
     "execution_count": 19,
     "metadata": {},
     "output_type": "execute_result"
    }
   ],
   "source": [
    "# broadcasting\n",
    "arr1 = np.array([\n",
    "    [1, 2, 3],\n",
    "    [4, 5, 6],\n",
    "    [7, 8, 9]\n",
    "])\n",
    "arr2 = np.array([100, 200, 300])\n",
    "# arr2 = np.array([\n",
    "#     [100, 200, 300],\n",
    "#     [100, 200, 300],\n",
    "#     [100, 200, 300]\n",
    "# ])\n",
    "arr1 + arr2"
   ]
  },
  {
   "cell_type": "code",
   "execution_count": 20,
   "metadata": {},
   "outputs": [
    {
     "data": {
      "text/plain": [
       "array([[101, 102, 103],\n",
       "       [204, 205, 206],\n",
       "       [307, 308, 309]])"
      ]
     },
     "execution_count": 20,
     "metadata": {},
     "output_type": "execute_result"
    }
   ],
   "source": [
    "# broadcasting 2\n",
    "arr1 = np.array([\n",
    "    [1, 2, 3],\n",
    "    [4, 5, 6],\n",
    "    [7, 8, 9]\n",
    "])\n",
    "arr2 = np.array([\n",
    "    [100],\n",
    "    [200],\n",
    "    [300]\n",
    "])\n",
    "# arr = np.array([\n",
    "#     [100, 100, 100],\n",
    "#     [200, 200, 200],\n",
    "#     [300, 300, 300]\n",
    "# ])\n",
    "arr1 + arr2"
   ]
  },
  {
   "cell_type": "code",
   "execution_count": 21,
   "metadata": {},
   "outputs": [
    {
     "data": {
      "text/plain": [
       "array([[1.        , 1.41421356, 1.73205081],\n",
       "       [2.        , 2.23606798, 2.44948974],\n",
       "       [2.64575131, 2.82842712, 3.        ]])"
      ]
     },
     "execution_count": 21,
     "metadata": {},
     "output_type": "execute_result"
    }
   ],
   "source": [
    "arr1**(1/2)  # 이런 것도 당연히 가능"
   ]
  },
  {
   "cell_type": "code",
   "execution_count": 22,
   "metadata": {},
   "outputs": [
    {
     "data": {
      "text/plain": [
       "array([[0.5, 1. , 1.5],\n",
       "       [2. , 2.5, 3. ],\n",
       "       [3.5, 4. , 4.5]])"
      ]
     },
     "execution_count": 22,
     "metadata": {},
     "output_type": "execute_result"
    }
   ],
   "source": [
    "arr1 / 2  # 이런 것도"
   ]
  },
  {
   "cell_type": "markdown",
   "metadata": {},
   "source": [
    "## 행렬 연산"
   ]
  },
  {
   "cell_type": "code",
   "execution_count": 23,
   "metadata": {},
   "outputs": [
    {
     "data": {
      "text/plain": [
       "array([[ 90,  96, 102],\n",
       "       [216, 231, 246],\n",
       "       [342, 366, 390]])"
      ]
     },
     "execution_count": 23,
     "metadata": {},
     "output_type": "execute_result"
    }
   ],
   "source": [
    "arr1 = np.array([\n",
    "    [1, 2, 3],\n",
    "    [4, 5, 6],\n",
    "    [7, 8, 9]\n",
    "])\n",
    "arr2 = np.array([\n",
    "    [11, 12, 13],\n",
    "    [14, 15, 16],\n",
    "    [17, 18, 19]\n",
    "])\n",
    "np.matmul(arr1, arr2)"
   ]
  },
  {
   "cell_type": "markdown",
   "metadata": {},
   "source": [
    "# 편의 기능"
   ]
  },
  {
   "cell_type": "code",
   "execution_count": 24,
   "metadata": {},
   "outputs": [
    {
     "data": {
      "text/plain": [
       "array([[[0., 0., 0.],\n",
       "        [0., 0., 0.],\n",
       "        [0., 0., 0.]],\n",
       "\n",
       "       [[0., 0., 0.],\n",
       "        [0., 0., 0.],\n",
       "        [0., 0., 0.]],\n",
       "\n",
       "       [[0., 0., 0.],\n",
       "        [0., 0., 0.],\n",
       "        [0., 0., 0.]]])"
      ]
     },
     "execution_count": 24,
     "metadata": {},
     "output_type": "execute_result"
    }
   ],
   "source": [
    "np.zeros((3, 3, 3))  # 영행렬 만들기"
   ]
  },
  {
   "cell_type": "code",
   "execution_count": 25,
   "metadata": {},
   "outputs": [
    {
     "data": {
      "text/plain": [
       "array([[0, 0, 0],\n",
       "       [0, 0, 0],\n",
       "       [0, 0, 0]])"
      ]
     },
     "execution_count": 25,
     "metadata": {},
     "output_type": "execute_result"
    }
   ],
   "source": [
    "np.zeros_like(arr1)  # arr1 과 같은 shape의 영행렬 만들기"
   ]
  },
  {
   "cell_type": "code",
   "execution_count": 26,
   "metadata": {},
   "outputs": [
    {
     "data": {
      "text/plain": [
       "array([[[1., 1., 1.],\n",
       "        [1., 1., 1.],\n",
       "        [1., 1., 1.]],\n",
       "\n",
       "       [[1., 1., 1.],\n",
       "        [1., 1., 1.],\n",
       "        [1., 1., 1.]],\n",
       "\n",
       "       [[1., 1., 1.],\n",
       "        [1., 1., 1.],\n",
       "        [1., 1., 1.]]])"
      ]
     },
     "execution_count": 26,
     "metadata": {},
     "output_type": "execute_result"
    }
   ],
   "source": [
    "np.ones((3, 3, 3))  # 일행렬 만들기"
   ]
  },
  {
   "cell_type": "code",
   "execution_count": 27,
   "metadata": {},
   "outputs": [
    {
     "data": {
      "text/plain": [
       "array([[1., 0., 0., 0., 0.],\n",
       "       [0., 1., 0., 0., 0.],\n",
       "       [0., 0., 1., 0., 0.],\n",
       "       [0., 0., 0., 1., 0.],\n",
       "       [0., 0., 0., 0., 1.]])"
      ]
     },
     "execution_count": 27,
     "metadata": {},
     "output_type": "execute_result"
    }
   ],
   "source": [
    "np.eye(5)  # I 행렬 만들기"
   ]
  },
  {
   "cell_type": "code",
   "execution_count": 29,
   "metadata": {},
   "outputs": [
    {
     "data": {
      "text/plain": [
       "array([[[0.33652711, 0.14596162, 0.57082891],\n",
       "        [0.10632926, 0.17696516, 0.8919381 ],\n",
       "        [0.41751452, 0.90127455, 0.51460716]],\n",
       "\n",
       "       [[0.3223207 , 0.3280134 , 0.02770667],\n",
       "        [0.40203292, 0.55583294, 0.29758088],\n",
       "        [0.72677193, 0.18619649, 0.49497439]],\n",
       "\n",
       "       [[0.49022938, 0.90101835, 0.38775057],\n",
       "        [0.54313419, 0.25149787, 0.21022881],\n",
       "        [0.05073541, 0.31465662, 0.04836316]]])"
      ]
     },
     "execution_count": 29,
     "metadata": {},
     "output_type": "execute_result"
    }
   ],
   "source": [
    "np.random.random((3, 3, 3))  # 랜덤 행렬 만들기"
   ]
  },
  {
   "cell_type": "markdown",
   "metadata": {},
   "source": [
    "이제 모르는 것이 있다면 구글에 검색하면 된다!\n",
    "\n",
    "*E.O.D.*"
   ]
  },
  {
   "cell_type": "markdown",
   "metadata": {},
   "source": []
  }
 ],
 "metadata": {
  "interpreter": {
   "hash": "6782213626cec0d3f5f886a81219101dd5fc224045f955f6749016266fe825d1"
  },
  "kernelspec": {
   "display_name": "Python 3.9.7 64-bit ('base': conda)",
   "language": "python",
   "name": "python3"
  },
  "language_info": {
   "codemirror_mode": {
    "name": "ipython",
    "version": 3
   },
   "file_extension": ".py",
   "mimetype": "text/x-python",
   "name": "python",
   "nbconvert_exporter": "python",
   "pygments_lexer": "ipython3",
   "version": "3.9.7"
  },
  "orig_nbformat": 4
 },
 "nbformat": 4,
 "nbformat_minor": 2
}
